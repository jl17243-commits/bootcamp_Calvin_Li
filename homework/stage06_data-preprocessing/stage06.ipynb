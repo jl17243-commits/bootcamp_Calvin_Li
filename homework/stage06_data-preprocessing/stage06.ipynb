{
 "cells": [
  {
   "cell_type": "code",
   "execution_count": 1,
   "id": "13485b4d-5739-4bc9-b59e-b4ee010952e9",
   "metadata": {},
   "outputs": [],
   "source": [
    "import pandas as pd\n",
    "df=pd.read_csv(\"C:\\\\Users\\\\Bobli\\\\bootcamp_Calvin_Li\\\\data\\\\raw\\\\instructor_dirty.csv\")"
   ]
  },
  {
   "cell_type": "code",
   "execution_count": 2,
   "id": "e4be63a9-a363-4c9c-b401-f0fea7b045ff",
   "metadata": {},
   "outputs": [
    {
     "name": "stdout",
     "output_type": "stream",
     "text": [
      "   numeric_col category_col price    date_str     category\n",
      "0         10.0            A  $100  2025-08-01  Electronics\n",
      "1          NaN            B  $200  2025-08-02    Furniture\n",
      "2         40.0            A  $150         NaN         Toys\n",
      "3         55.0            B   NaN  2025-08-04     Clothing\n",
      "4         70.0            C  $250  2025-08-05          NaN\n",
      "   numeric_col category_col price    date_str     category\n",
      "0         10.0            A  $100  2025-08-01  Electronics\n",
      "1         47.5            B  $200  2025-08-02    Furniture\n",
      "2         40.0            A  $150         NaN         Toys\n",
      "3         55.0            B   NaN  2025-08-04     Clothing\n",
      "4         70.0            C  $250  2025-08-05          NaN\n"
     ]
    }
   ],
   "source": [
    "import numpy as np\n",
    "import sys\n",
    "sys.path.append(\"C:\\\\Users\\\\Bobli\\\\bootcamp_Calvin_Li\\\\homework\\\\homework06\\\\src\")\n",
    "from cleaning import fill_missing_median,drop_missing,normalize_data\n",
    "df_cleaned=df.copy()\n",
    "df1_cleaned=fill_missing_median(df_cleaned)\n",
    "print(df)\n",
    "print(df1_cleaned)\n",
    "df1_cleaned.to_csv(\"C:\\\\Users\\\\Bobli\\\\bootcamp_Calvin_Li\\\\data\\\\processed\\\\instructor_dirty.csv\", index=False)\n"
   ]
  },
  {
   "cell_type": "code",
   "execution_count": null,
   "id": "e5ecb99a-f9c7-46a8-9352-cead80e78a79",
   "metadata": {},
   "outputs": [],
   "source": []
  },
  {
   "cell_type": "code",
   "execution_count": null,
   "id": "d8daf400-36d6-4bdb-9d24-200d93c2cb0e",
   "metadata": {},
   "outputs": [],
   "source": []
  }
 ],
 "metadata": {
  "kernelspec": {
   "display_name": "Python (fe-course)",
   "language": "python",
   "name": "fe-course"
  },
  "language_info": {
   "codemirror_mode": {
    "name": "ipython",
    "version": 3
   },
   "file_extension": ".py",
   "mimetype": "text/x-python",
   "name": "python",
   "nbconvert_exporter": "python",
   "pygments_lexer": "ipython3",
   "version": "3.10.18"
  }
 },
 "nbformat": 4,
 "nbformat_minor": 5
}
