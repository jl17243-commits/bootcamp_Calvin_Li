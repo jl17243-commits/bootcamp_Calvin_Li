{
 "cells": [
  {
   "cell_type": "code",
   "execution_count": 1,
   "id": "61ccd038-fedc-4e11-8cfb-ec98b66e0cd6",
   "metadata": {},
   "outputs": [
    {
     "name": "stdout",
     "output_type": "stream",
     "text": [
      "Writing metrics to: tmp\\stage14_demo\\metrics.csv\n"
     ]
    }
   ],
   "source": [
    "from pathlib import Path\n",
    "from datetime import datetime\n",
    "import random, time, csv, json, math, statistics\n",
    "\n",
    "BASE = Path('./tmp/stage14_demo')\n",
    "BASE.mkdir(parents=True, exist_ok=True)\n",
    "METRICS_CSV = BASE / 'metrics.csv'\n",
    "if not METRICS_CSV.exists():\n",
    "    with METRICS_CSV.open('w', newline='') as f:\n",
    "        w = csv.writer(f)\n",
    "        w.writerow(['ts','name','value','layer','model_version','window','context'])\n",
    "print(f'Writing metrics to: {METRICS_CSV}')"
   ]
  },
  {
   "cell_type": "code",
   "execution_count": 2,
   "id": "80aec7b9-df77-428d-9a3e-06c0c770641b",
   "metadata": {},
   "outputs": [
    {
     "data": {
      "text/plain": [
       "['2025-08-29T03:11:03Z',\n",
       " 'job_success',\n",
       " 1.0,\n",
       " 'system',\n",
       " 'v1',\n",
       " '1d',\n",
       " '{\"job\": \"nightly_batch\"}']"
      ]
     },
     "execution_count": 2,
     "metadata": {},
     "output_type": "execute_result"
    }
   ],
   "source": [
    "def log_metric(name, value, *, layer, model_version='v1', window='1m', **ctx):\n",
    "    row = [\n",
    "        datetime.utcnow().isoformat(timespec='seconds') + 'Z',\n",
    "        name,\n",
    "        float(value),\n",
    "        layer,\n",
    "        model_version,\n",
    "        window,\n",
    "        json.dumps(ctx)\n",
    "    ]\n",
    "    with METRICS_CSV.open('a', newline='') as f:\n",
    "        csv.writer(f).writerow(row)\n",
    "    return row\n",
    "\n",
    "# quick smoke test\n",
    "log_metric('job_success', 1.0, layer='system', window='1d', job='nightly_batch')"
   ]
  },
  {
   "cell_type": "code",
   "execution_count": 4,
   "id": "dc841729-a40d-4eac-8c1c-ecad15f7e0cf",
   "metadata": {},
   "outputs": [
    {
     "name": "stdout",
     "output_type": "stream",
     "text": [
      "['2025-08-29T05:37:25Z', 'rolling_mae', 0.07433442759085997, 'model', 'v1', '20obs', '{\"step\": 119}']\n"
     ]
    }
   ],
   "source": [
    "random.seed(42)\n",
    "y_true,y_pred=[],[]\n",
    "for t in range(120):\n",
    "    y=random.random()\n",
    "    noise=0.05 if t<=80 else 0.15\n",
    "    pred=min(1.0,max(0.0,y+random.uniform(-noise,noise)))\n",
    "    y_true.append(y)\n",
    "    y_pred.append(pred)\n",
    "    if t>=19:\n",
    "        window_true=y_true[t-19:t+1]\n",
    "        window_pred = y_pred[t-19:t+1]\n",
    "        mae=sum(abs(a-b) for a,b in zip(window_true,window_pred))/20\n",
    "        row=log_metric('rolling_mae', mae, layer='model', window='20obs', step=t)\n",
    "        latency=random.randint(60,160) if t<=80 else random.randint(120,300)\n",
    "        log_metric('p95_latency_ms',latency,layer='system',window='1m',step=t)\n",
    "print(row)"
   ]
  },
  {
   "cell_type": "code",
   "execution_count": null,
   "id": "f9f719be-36d2-48e9-80b4-a7abfcdc14a3",
   "metadata": {},
   "outputs": [],
   "source": [
    "RULES={'rolling_mae'}"
   ]
  }
 ],
 "metadata": {
  "kernelspec": {
   "display_name": "Python (fe-course)",
   "language": "python",
   "name": "fe-course"
  },
  "language_info": {
   "codemirror_mode": {
    "name": "ipython",
    "version": 3
   },
   "file_extension": ".py",
   "mimetype": "text/x-python",
   "name": "python",
   "nbconvert_exporter": "python",
   "pygments_lexer": "ipython3",
   "version": "3.10.18"
  }
 },
 "nbformat": 4,
 "nbformat_minor": 5
}
