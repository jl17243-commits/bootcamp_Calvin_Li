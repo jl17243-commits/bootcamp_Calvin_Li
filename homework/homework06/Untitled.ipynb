{
 "cells": [
  {
   "cell_type": "code",
   "execution_count": 3,
   "id": "13485b4d-5739-4bc9-b59e-b4ee010952e9",
   "metadata": {},
   "outputs": [],
   "source": [
    "import pandas as pd\n",
    "df=pd.read_csv(\"C:\\\\Users\\\\Bobli\\\\bootcamp_Calvin_Li\\\\class_materials\\\\data\\\\instructor_dirty.csv\")"
   ]
  },
  {
   "cell_type": "code",
   "execution_count": 17,
   "id": "e4be63a9-a363-4c9c-b401-f0fea7b045ff",
   "metadata": {},
   "outputs": [
    {
     "ename": "NameError",
     "evalue": "name 'np' is not defined",
     "output_type": "error",
     "traceback": [
      "\u001b[1;31m---------------------------------------------------------------------------\u001b[0m",
      "\u001b[1;31mNameError\u001b[0m                                 Traceback (most recent call last)",
      "Cell \u001b[1;32mIn[17], line 6\u001b[0m\n\u001b[0;32m      4\u001b[0m \u001b[38;5;28;01mfrom\u001b[39;00m\u001b[38;5;250m \u001b[39m\u001b[38;5;21;01mcleaning\u001b[39;00m\u001b[38;5;250m \u001b[39m\u001b[38;5;28;01mimport\u001b[39;00m fill_missing_median,drop_missing,normalize_data\n\u001b[0;32m      5\u001b[0m df_cleaned\u001b[38;5;241m=\u001b[39mdf\u001b[38;5;241m.\u001b[39mcopy()\n\u001b[1;32m----> 6\u001b[0m df1_cleaned\u001b[38;5;241m=\u001b[39m\u001b[43mfill_missing_median\u001b[49m\u001b[43m(\u001b[49m\u001b[43mdf_cleaned\u001b[49m\u001b[43m)\u001b[49m\n\u001b[0;32m      7\u001b[0m \u001b[38;5;28mprint\u001b[39m(df)\n\u001b[0;32m      8\u001b[0m \u001b[38;5;28mprint\u001b[39m(df1_cleaned)\n",
      "File \u001b[1;32m~\\bootcamp_Calvin_Li\\homework\\homework06\\src\\cleaning.py:4\u001b[0m, in \u001b[0;36mfill_missing_median\u001b[1;34m(df, columns)\u001b[0m\n\u001b[0;32m      2\u001b[0m df_copy \u001b[38;5;241m=\u001b[39m df\u001b[38;5;241m.\u001b[39mcopy()\n\u001b[0;32m      3\u001b[0m \u001b[38;5;28;01mif\u001b[39;00m columns \u001b[38;5;129;01mis\u001b[39;00m \u001b[38;5;28;01mNone\u001b[39;00m:\n\u001b[1;32m----> 4\u001b[0m     columns \u001b[38;5;241m=\u001b[39m df\u001b[38;5;241m.\u001b[39mselect_dtypes(include\u001b[38;5;241m=\u001b[39m\u001b[43mnp\u001b[49m\u001b[38;5;241m.\u001b[39mnumber)\u001b[38;5;241m.\u001b[39mcolumns\n\u001b[0;32m      5\u001b[0m \u001b[38;5;28;01mfor\u001b[39;00m col \u001b[38;5;129;01min\u001b[39;00m columns:\n\u001b[0;32m      6\u001b[0m     df_copy[col] \u001b[38;5;241m=\u001b[39m df_copy[col]\u001b[38;5;241m.\u001b[39mfillna(df_copy[col]\u001b[38;5;241m.\u001b[39mmedian())\n",
      "\u001b[1;31mNameError\u001b[0m: name 'np' is not defined"
     ]
    }
   ],
   "source": [
    "import numpy as np\n",
    "import sys\n",
    "sys.path.append(\"C:\\\\Users\\\\Bobli\\\\bootcamp_Calvin_Li\\\\homework\\\\homework06\\\\src\")\n",
    "from cleaning import fill_missing_median,drop_missing,normalize_data\n",
    "df_cleaned=df.copy()\n",
    "df1_cleaned=fill_missing_median(df_cleaned)\n",
    "print(df)\n",
    "print(df1_cleaned)\n",
    "df1_cleaned.to_csv(\"C:\\\\Users\\\\Bobli\\\\bootcamp_Calvin_Li\\\\class_materials\\\\data\\\\processed.csv\", index=False)\n"
   ]
  },
  {
   "cell_type": "code",
   "execution_count": null,
   "id": "e5ecb99a-f9c7-46a8-9352-cead80e78a79",
   "metadata": {},
   "outputs": [],
   "source": []
  },
  {
   "cell_type": "code",
   "execution_count": null,
   "id": "d8daf400-36d6-4bdb-9d24-200d93c2cb0e",
   "metadata": {},
   "outputs": [],
   "source": []
  }
 ],
 "metadata": {
  "kernelspec": {
   "display_name": "Python (fe-course)",
   "language": "python",
   "name": "fe-course"
  },
  "language_info": {
   "codemirror_mode": {
    "name": "ipython",
    "version": 3
   },
   "file_extension": ".py",
   "mimetype": "text/x-python",
   "name": "python",
   "nbconvert_exporter": "python",
   "pygments_lexer": "ipython3",
   "version": "3.10.18"
  }
 },
 "nbformat": 4,
 "nbformat_minor": 5
}
