{
 "cells": [
  {
   "cell_type": "code",
   "execution_count": 2,
   "id": "bc89a130-bbbb-4f68-a55d-804fbb545692",
   "metadata": {},
   "outputs": [
    {
     "data": {
      "text/html": [
       "<div>\n",
       "<style scoped>\n",
       "    .dataframe tbody tr th:only-of-type {\n",
       "        vertical-align: middle;\n",
       "    }\n",
       "\n",
       "    .dataframe tbody tr th {\n",
       "        vertical-align: top;\n",
       "    }\n",
       "\n",
       "    .dataframe thead th {\n",
       "        text-align: right;\n",
       "    }\n",
       "</style>\n",
       "<table border=\"1\" class=\"dataframe\">\n",
       "  <thead>\n",
       "    <tr style=\"text-align: right;\">\n",
       "      <th></th>\n",
       "      <th>income</th>\n",
       "      <th>monthly_spend</th>\n",
       "      <th>credit_score</th>\n",
       "    </tr>\n",
       "  </thead>\n",
       "  <tbody>\n",
       "    <tr>\n",
       "      <th>0</th>\n",
       "      <td>86460</td>\n",
       "      <td>3129</td>\n",
       "      <td>661</td>\n",
       "    </tr>\n",
       "    <tr>\n",
       "      <th>1</th>\n",
       "      <td>66002</td>\n",
       "      <td>1191</td>\n",
       "      <td>668</td>\n",
       "    </tr>\n",
       "    <tr>\n",
       "      <th>2</th>\n",
       "      <td>74681</td>\n",
       "      <td>1237</td>\n",
       "      <td>734</td>\n",
       "    </tr>\n",
       "    <tr>\n",
       "      <th>3</th>\n",
       "      <td>93613</td>\n",
       "      <td>2581</td>\n",
       "      <td>712</td>\n",
       "    </tr>\n",
       "    <tr>\n",
       "      <th>4</th>\n",
       "      <td>88013</td>\n",
       "      <td>1296</td>\n",
       "      <td>712</td>\n",
       "    </tr>\n",
       "  </tbody>\n",
       "</table>\n",
       "</div>"
      ],
      "text/plain": [
       "   income  monthly_spend  credit_score\n",
       "0   86460           3129           661\n",
       "1   66002           1191           668\n",
       "2   74681           1237           734\n",
       "3   93613           2581           712\n",
       "4   88013           1296           712"
      ]
     },
     "execution_count": 2,
     "metadata": {},
     "output_type": "execute_result"
    }
   ],
   "source": [
    "import pandas as pd\n",
    "import numpy as np\n",
    "\n",
    "# Example synthetic data (replace with your project dataset)\n",
    "np.random.seed(0)\n",
    "n = 100\n",
    "df = pd.DataFrame({\n",
    "    'income': np.random.normal(60000, 15000, n).astype(int),\n",
    "    'monthly_spend': np.random.normal(2000, 600, n).astype(int),\n",
    "    'credit_score': np.random.normal(680, 50, n).astype(int)\n",
    "})\n",
    "df.head()"
   ]
  },
  {
   "cell_type": "code",
   "execution_count": 3,
   "id": "74693a52-143a-4d6a-bed6-bac87921ad89",
   "metadata": {},
   "outputs": [],
   "source": [
    "df['spend_income_ratio'] = df['monthly_spend'] / df['income'] \n",
    "df['rolling_spend_mean'] = df['monthly_spend'].rolling(3).mean()"
   ]
  },
  {
   "cell_type": "code",
   "execution_count": 4,
   "id": "97f08817-72b2-4969-812b-a5c1cf25a4b9",
   "metadata": {},
   "outputs": [
    {
     "data": {
      "text/html": [
       "<div>\n",
       "<style scoped>\n",
       "    .dataframe tbody tr th:only-of-type {\n",
       "        vertical-align: middle;\n",
       "    }\n",
       "\n",
       "    .dataframe tbody tr th {\n",
       "        vertical-align: top;\n",
       "    }\n",
       "\n",
       "    .dataframe thead th {\n",
       "        text-align: right;\n",
       "    }\n",
       "</style>\n",
       "<table border=\"1\" class=\"dataframe\">\n",
       "  <thead>\n",
       "    <tr style=\"text-align: right;\">\n",
       "      <th></th>\n",
       "      <th>income</th>\n",
       "      <th>monthly_spend</th>\n",
       "      <th>credit_score</th>\n",
       "      <th>spend_income_ratio</th>\n",
       "      <th>rolling_spend_mean</th>\n",
       "    </tr>\n",
       "  </thead>\n",
       "  <tbody>\n",
       "    <tr>\n",
       "      <th>0</th>\n",
       "      <td>86460</td>\n",
       "      <td>3129</td>\n",
       "      <td>661</td>\n",
       "      <td>0.036190</td>\n",
       "      <td>NaN</td>\n",
       "    </tr>\n",
       "    <tr>\n",
       "      <th>1</th>\n",
       "      <td>66002</td>\n",
       "      <td>1191</td>\n",
       "      <td>668</td>\n",
       "      <td>0.018045</td>\n",
       "      <td>NaN</td>\n",
       "    </tr>\n",
       "    <tr>\n",
       "      <th>2</th>\n",
       "      <td>74681</td>\n",
       "      <td>1237</td>\n",
       "      <td>734</td>\n",
       "      <td>0.016564</td>\n",
       "      <td>1852.333333</td>\n",
       "    </tr>\n",
       "    <tr>\n",
       "      <th>3</th>\n",
       "      <td>93613</td>\n",
       "      <td>2581</td>\n",
       "      <td>712</td>\n",
       "      <td>0.027571</td>\n",
       "      <td>1669.666667</td>\n",
       "    </tr>\n",
       "    <tr>\n",
       "      <th>4</th>\n",
       "      <td>88013</td>\n",
       "      <td>1296</td>\n",
       "      <td>712</td>\n",
       "      <td>0.014725</td>\n",
       "      <td>1704.666667</td>\n",
       "    </tr>\n",
       "  </tbody>\n",
       "</table>\n",
       "</div>"
      ],
      "text/plain": [
       "   income  monthly_spend  credit_score  spend_income_ratio  rolling_spend_mean\n",
       "0   86460           3129           661            0.036190                 NaN\n",
       "1   66002           1191           668            0.018045                 NaN\n",
       "2   74681           1237           734            0.016564         1852.333333\n",
       "3   93613           2581           712            0.027571         1669.666667\n",
       "4   88013           1296           712            0.014725         1704.666667"
      ]
     },
     "execution_count": 4,
     "metadata": {},
     "output_type": "execute_result"
    }
   ],
   "source": [
    "df.head()\n"
   ]
  },
  {
   "cell_type": "code",
   "execution_count": null,
   "id": "52357755-8c6c-4011-a09b-92ecfda172c1",
   "metadata": {},
   "outputs": [],
   "source": []
  }
 ],
 "metadata": {
  "kernelspec": {
   "display_name": "Python (fe-course)",
   "language": "python",
   "name": "fe-course"
  },
  "language_info": {
   "codemirror_mode": {
    "name": "ipython",
    "version": 3
   },
   "file_extension": ".py",
   "mimetype": "text/x-python",
   "name": "python",
   "nbconvert_exporter": "python",
   "pygments_lexer": "ipython3",
   "version": "3.10.18"
  }
 },
 "nbformat": 4,
 "nbformat_minor": 5
}
