{
 "cells": [
  {
   "cell_type": "code",
   "execution_count": 3,
   "id": "3d9a74c7-f38c-427d-a72a-a2d7bce9d5ff",
   "metadata": {},
   "outputs": [
    {
     "name": "stdout",
     "output_type": "stream",
     "text": [
      "           date  daily_return  daily_return_2\n",
      "0    2022-01-03      0.001263        0.003834\n",
      "1    2022-01-04     -0.020046       -0.009506\n",
      "2    2022-01-05      0.004739       -0.000535\n",
      "3    2022-01-06      0.009953        0.012539\n",
      "4    2022-01-07      0.008872        0.009840\n",
      "..          ...           ...             ...\n",
      "110  2022-06-06     -0.010598       -0.001576\n",
      "111  2022-06-07     -0.004461        0.002448\n",
      "112  2022-06-08     -0.011624       -0.013451\n",
      "113  2022-06-09     -0.006220       -0.002045\n",
      "114  2022-06-10      0.006093        0.004984\n",
      "\n",
      "[115 rows x 3 columns]\n"
     ]
    }
   ],
   "source": [
    "import numpy as np\n",
    "import pandas as pd\n",
    "df=pd.read_csv('../../data/raw/outliers_homework.csv')\n",
    "print(df)"
   ]
  },
  {
   "cell_type": "code",
   "execution_count": 8,
   "id": "61061989-e478-479f-b7cf-daf38dea6652",
   "metadata": {},
   "outputs": [
    {
     "name": "stdout",
     "output_type": "stream",
     "text": [
      "0      False\n",
      "1      False\n",
      "2      False\n",
      "3      False\n",
      "4      False\n",
      "       ...  \n",
      "110    False\n",
      "111    False\n",
      "112    False\n",
      "113    False\n",
      "114    False\n",
      "Name: daily_return, Length: 115, dtype: bool\n"
     ]
    },
    {
     "data": {
      "text/plain": [
       "np.int64(9)"
      ]
     },
     "execution_count": 8,
     "metadata": {},
     "output_type": "execute_result"
    }
   ],
   "source": [
    "def detect_outliers_iqr(series,k=1.5):\n",
    "    q1=series.quantile(0.25)\n",
    "    q3=series.quantile(0.75)\n",
    "    iqr=q3-q1\n",
    "    lower=q1-k*iqr\n",
    "    upper=q3+k*iqr\n",
    "    return (series<lower)|(series>upper)\n",
    "a=detect_outliers_iqr(df['daily_return'])\n",
    "print(a)\n",
    "a.sum()"
   ]
  },
  {
   "cell_type": "code",
   "execution_count": 7,
   "id": "dd518614-6bbb-4047-8356-ca9a4883c4e6",
   "metadata": {},
   "outputs": [
    {
     "name": "stdout",
     "output_type": "stream",
     "text": [
      "0      False\n",
      "1      False\n",
      "2      False\n",
      "3      False\n",
      "4      False\n",
      "       ...  \n",
      "110    False\n",
      "111    False\n",
      "112    False\n",
      "113    False\n",
      "114    False\n",
      "Name: daily_return, Length: 115, dtype: bool\n"
     ]
    },
    {
     "data": {
      "text/plain": [
       "np.int64(5)"
      ]
     },
     "execution_count": 7,
     "metadata": {},
     "output_type": "execute_result"
    }
   ],
   "source": [
    "def detect_outliers_zscore(series,threshold=3):\n",
    "    mu=series.mean()\n",
    "    sigma=series.std()\n",
    "    z=(series-mu)/(sigma if sigma!=0 else 1)\n",
    "    return z.abs()>threshold\n",
    "b=detect_outliers_zscore(df['daily_return'])\n",
    "print(b)\n",
    "b.sum()"
   ]
  },
  {
   "cell_type": "code",
   "execution_count": 9,
   "id": "8709ef88-e575-409e-90f6-412ba82b6e1a",
   "metadata": {},
   "outputs": [],
   "source": [
    "def winsorize_series(series,lower=0.05,upper=0.95):\n",
    "    lo=series.quantile(lower)\n",
    "    hi=series.quantile(upper)\n",
    "    return series.clip(lower=lo,upper=hi)\n"
   ]
  },
  {
   "cell_type": "code",
   "execution_count": 11,
   "id": "8ff4ec00-b50c-4ce4-90c0-6a3ebd8c08f9",
   "metadata": {},
   "outputs": [
    {
     "name": "stdout",
     "output_type": "stream",
     "text": [
      "           date  daily_return  daily_return_2  daily_return_qr_outliers\n",
      "0    2022-01-03      0.001263        0.003834                     False\n",
      "1    2022-01-04     -0.020046       -0.009506                     False\n",
      "2    2022-01-05      0.004739       -0.000535                     False\n",
      "3    2022-01-06      0.009953        0.012539                     False\n",
      "4    2022-01-07      0.008872        0.009840                     False\n",
      "..          ...           ...             ...                       ...\n",
      "110  2022-06-06     -0.010598       -0.001576                     False\n",
      "111  2022-06-07     -0.004461        0.002448                     False\n",
      "112  2022-06-08     -0.011624       -0.013451                     False\n",
      "113  2022-06-09     -0.006220       -0.002045                     False\n",
      "114  2022-06-10      0.006093        0.004984                     False\n",
      "\n",
      "[115 rows x 4 columns]\n"
     ]
    }
   ],
   "source": [
    "df['daily_return_qr_outliers']=a\n",
    "print(df)"
   ]
  },
  {
   "cell_type": "code",
   "execution_count": 13,
   "id": "0075e5e9-04df-4fa0-bd73-cc9049571fdb",
   "metadata": {},
   "outputs": [
    {
     "data": {
      "text/html": [
       "<div>\n",
       "<style scoped>\n",
       "    .dataframe tbody tr th:only-of-type {\n",
       "        vertical-align: middle;\n",
       "    }\n",
       "\n",
       "    .dataframe tbody tr th {\n",
       "        vertical-align: top;\n",
       "    }\n",
       "\n",
       "    .dataframe thead th {\n",
       "        text-align: right;\n",
       "    }\n",
       "</style>\n",
       "<table border=\"1\" class=\"dataframe\">\n",
       "  <thead>\n",
       "    <tr style=\"text-align: right;\">\n",
       "      <th></th>\n",
       "      <th>all</th>\n",
       "      <th>filtered_iqr</th>\n",
       "      <th>winsorized</th>\n",
       "    </tr>\n",
       "  </thead>\n",
       "  <tbody>\n",
       "    <tr>\n",
       "      <th>mean</th>\n",
       "      <td>-0.001434</td>\n",
       "      <td>-0.000039</td>\n",
       "      <td>-0.000251</td>\n",
       "    </tr>\n",
       "    <tr>\n",
       "      <th>median</th>\n",
       "      <td>-0.000187</td>\n",
       "      <td>-0.000100</td>\n",
       "      <td>-0.000187</td>\n",
       "    </tr>\n",
       "    <tr>\n",
       "      <th>std</th>\n",
       "      <td>0.040579</td>\n",
       "      <td>0.009443</td>\n",
       "      <td>0.010623</td>\n",
       "    </tr>\n",
       "  </tbody>\n",
       "</table>\n",
       "</div>"
      ],
      "text/plain": [
       "             all  filtered_iqr  winsorized\n",
       "mean   -0.001434     -0.000039   -0.000251\n",
       "median -0.000187     -0.000100   -0.000187\n",
       "std     0.040579      0.009443    0.010623"
      ]
     },
     "execution_count": 13,
     "metadata": {},
     "output_type": "execute_result"
    }
   ],
   "source": [
    "summ_all=df['daily_return'].describe()[['mean','50%','std']].rename({'50%':'median'})\n",
    "summ_qr_filtered=df.loc[~df['daily_return_qr_outliers'],'daily_return'].describe()[['mean','50%','std']].rename({'50%':'median'})\n",
    "summ_winsorized= winsorize_series(df['daily_return']).describe()[['mean','50%','std']].rename({'50%':'median'})\n",
    "comp=pd.concat(\n",
    "    {'all':summ_all,\n",
    "     'filtered_iqr':summ_qr_filtered,\n",
    "     'winsorized':summ_winsorized\n",
    "        \n",
    "    },axis=1\n",
    ")\n",
    "comp"
   ]
  },
  {
   "cell_type": "code",
   "execution_count": 14,
   "id": "58d525aa-13b7-482e-9806-b5d10e9f555a",
   "metadata": {},
   "outputs": [
    {
     "name": "stdout",
     "output_type": "stream",
     "text": [
      "                             slope                intercept        r2  \\\n",
      "all           [0.6058687478180388]  [0.0002006627418449236]  0.961859   \n",
      "filtered_iqr  [0.5896788395551325]  [-4.88346503029787e-05]  0.573566   \n",
      "\n",
      "                   mae  \n",
      "all           0.003951  \n",
      "filtered_iqr  0.003847  \n"
     ]
    }
   ],
   "source": [
    "from sklearn.linear_model import LinearRegression\n",
    "from sklearn.metrics import mean_absolute_error,r2_score\n",
    "X_all=df[['daily_return']].to_numpy()\n",
    "y_all=df[['daily_return_2']].to_numpy()\n",
    "X_filtered= df.loc[~df['daily_return_qr_outliers'], ['daily_return']].to_numpy()\n",
    "y_filtered=df.loc[~df['daily_return_qr_outliers'], ['daily_return_2']].to_numpy()\n",
    "model_all=LinearRegression().fit(X_all,y_all)\n",
    "model_filtered=LinearRegression().fit(X_filtered,y_filtered)\n",
    "mae_all=mean_absolute_error(y_all,model_all.predict(X_all))\n",
    "mae_filtered=mean_absolute_error(y_filtered,model_all.predict(X_filtered))\n",
    "results = pd.DataFrame({\n",
    "        'slope': [model_all.coef_[0], model_filtered.coef_[0]],\n",
    "        'intercept': [model_all.intercept_, model_filtered.intercept_],\n",
    "        'r2': [model_all.score(X_all, y_all), model_filtered.score(X_filtered, y_filtered)],\n",
    "        'mae': [mae_all, mae_filtered]\n",
    "    }, index=['all', 'filtered_iqr'])\n",
    "print(results)"
   ]
  },
  {
   "cell_type": "markdown",
   "id": "510a15a2-00f5-4934-b166-834311a17aad",
   "metadata": {},
   "source": [
    "I choose iqr filter to move outliers. Honestly, this choice is only at my willingness. I can not find a reason for it since the raw data set is created at random. I think both iqr filter and z-score filter are ok. The assumption behind iqr filter is that the outliers are abnormal and the stock return should follow normal distribution. The results of iqr filter are shown in the table above: it lowers the standard deviation, which is expected; however, it is amazing that it lower the R square of the linearregression. If the assumption is wrong, the iqr filter will cause several important data points loss and significantly influence the linearregression model."
   ]
  }
 ],
 "metadata": {
  "kernelspec": {
   "display_name": "Python (fe-course)",
   "language": "python",
   "name": "fe-course"
  },
  "language_info": {
   "codemirror_mode": {
    "name": "ipython",
    "version": 3
   },
   "file_extension": ".py",
   "mimetype": "text/x-python",
   "name": "python",
   "nbconvert_exporter": "python",
   "pygments_lexer": "ipython3",
   "version": "3.10.18"
  }
 },
 "nbformat": 4,
 "nbformat_minor": 5
}
