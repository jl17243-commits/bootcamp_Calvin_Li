{
 "cells": [
  {
   "cell_type": "code",
   "execution_count": 1,
   "id": "cfdbc5eb-35b8-416a-b1ec-62939e537e66",
   "metadata": {},
   "outputs": [
    {
     "name": "stdout",
     "output_type": "stream",
     "text": [
      "723 ms ± 35.7 ms per loop (mean ± std. dev. of 7 runs, 1 loop each)\n",
      "3.57 ms ± 81 µs per loop (mean ± std. dev. of 7 runs, 100 loops each)\n"
     ]
    }
   ],
   "source": [
    "import numpy as np\n",
    "from datetime import datetime\n",
    "big_array = np.arange(1_000_000)\n",
    "\n",
    "%timeit [x * 2 for x in big_array]\n",
    "%timeit big_array * 2"
   ]
  },
  {
   "cell_type": "code",
   "execution_count": 2,
   "id": "55a9e464-b122-4694-9ced-c1e09642ccda",
   "metadata": {},
   "outputs": [
    {
     "name": "stdout",
     "output_type": "stream",
     "text": [
      "<class 'pandas.core.frame.DataFrame'>\n",
      "RangeIndex: 10 entries, 0 to 9\n",
      "Data columns (total 3 columns):\n",
      " #   Column    Non-Null Count  Dtype \n",
      "---  ------    --------------  ----- \n",
      " 0   category  10 non-null     object\n",
      " 1   value     10 non-null     int64 \n",
      " 2   date      10 non-null     object\n",
      "dtypes: int64(1), object(2)\n",
      "memory usage: 368.0+ bytes\n",
      "None\n",
      "  category  value        date\n",
      "0        A     10  2025-08-01\n",
      "1        B     15  2025-08-02\n",
      "2        A     12  2025-08-03\n",
      "3        B     18  2025-08-04\n",
      "4        C     25  2025-08-05\n"
     ]
    }
   ],
   "source": [
    "import pandas as pd\n",
    "\n",
    "# 读取 CSV\n",
    "df = pd.read_csv(\"C:\\\\Users\\\\Bobli\\\\bootcamp_Calvin_Li\\\\homework\\\\homework03\\\\data\\\\starter_data.csv\")\n",
    "\n",
    "# 查看数据信息\n",
    "print(df.info())\n",
    "\n",
    "# 查看前五行\n",
    "print(df.head())"
   ]
  },
  {
   "cell_type": "code",
   "execution_count": 4,
   "id": "8c2037f8-5bf0-4908-b001-33b6c8572aea",
   "metadata": {},
   "outputs": [
    {
     "name": "stdout",
     "output_type": "stream",
     "text": [
      "           value\n",
      "count  10.000000\n",
      "mean   17.600000\n",
      "std     7.381659\n",
      "min    10.000000\n",
      "25%    12.250000\n",
      "50%    14.500000\n",
      "75%    23.250000\n",
      "max    30.000000\n",
      "  category      value\n",
      "0        A  11.500000\n",
      "1        B  15.666667\n",
      "2        C  27.666667\n"
     ]
    }
   ],
   "source": [
    "numeric_summary=df.describe()\n",
    "print(numeric_summary)\n",
    "grouped_summary=df.groupby('category').mean(numeric_only=True).reset_index()\n",
    "print(grouped_summary)"
   ]
  },
  {
   "cell_type": "code",
   "execution_count": 5,
   "id": "dcab1cbf-5f3f-4a25-865e-85d9e8b04c46",
   "metadata": {},
   "outputs": [],
   "source": [
    "grouped_summary.to_csv(\"C:\\\\Users\\\\Bobli\\\\bootcamp_Calvin_Li\\\\homework\\\\homework03\\\\data\\\\summary.csv\", index=False)"
   ]
  },
  {
   "cell_type": "code",
   "execution_count": 7,
   "id": "c3e312cb-c6eb-4e26-83c6-649c699f3791",
   "metadata": {},
   "outputs": [
    {
     "data": {
      "image/png": "[encoded data removed]",
      "text/plain": [
       "<Figure size 432x288 with 1 Axes>"
      ]
     },
     "metadata": {
      "needs_background": "light"
     },
     "output_type": "display_data"
    },
    {
     "data": {
      "text/plain": [
       "<Figure size 432x288 with 0 Axes>"
      ]
     },
     "metadata": {},
     "output_type": "display_data"
    }
   ],
   "source": [
    "import matplotlib.pyplot as plt\n",
    "\n",
    "# 绘制类别均值条形图\n",
    "ax = grouped_summary.plot(kind='bar', x='category', y=grouped_summary.columns[1:])\n",
    "\n",
    "plt.title(\"Category-wise Summary\")\n",
    "plt.xlabel(\"Category\")\n",
    "plt.ylabel(\"Values\")\n",
    "plt.tight_layout()\n",
    "\n",
    "plt.show()  # 直接在 Notebook 中显示图形\n",
    "\n",
    "# 可选：保存图像到文件\n",
    "plt.savefig(\"C:\\\\Users\\\\Bobli\\\\bootcamp_Calvin_Li\\\\homework\\\\homework03\\\\data\\\\summary_plot.png\")\n"
   ]
  },
  {
   "cell_type": "code",
   "execution_count": 8,
   "id": "ecb2102c-a1d7-4d42-b75e-6dc716034fbe",
   "metadata": {},
   "outputs": [],
   "source": [
    "def get_summary_stats(df,group_col=None):\n",
    "    if group_col:\n",
    "        return df.groupby(group_col).mean(numeric_only=True).reset_index()\n",
    "    else:\n",
    "        return df.describe()\n"
   ]
  },
  {
   "cell_type": "code",
   "execution_count": 11,
   "id": "e76d9aa2-e5a3-46ef-9316-af3751f66a9a",
   "metadata": {},
   "outputs": [
    {
     "ename": "ImportError",
     "evalue": "cannot import name 'get_summary_stats' from 'utils' (C:\\Users\\Bobli\\bootcamp_Calvin_Li\\homework\\homework02\\src\\utils.py)",
     "output_type": "error",
     "traceback": [
      "\u001b[1;31m---------------------------------------------------------------------------\u001b[0m",
      "\u001b[1;31mImportError\u001b[0m                               Traceback (most recent call last)",
      "\u001b[1;32m<ipython-input-11-6409f8f7b719>\u001b[0m in \u001b[0;36m<module>\u001b[1;34m()\u001b[0m\n\u001b[0;32m      2\u001b[0m \u001b[0msys\u001b[0m\u001b[1;33m.\u001b[0m\u001b[0mpath\u001b[0m\u001b[1;33m.\u001b[0m\u001b[0mappend\u001b[0m\u001b[1;33m(\u001b[0m\u001b[1;34mr\"C:\\Users\\Bobli\\bootcamp_Calvin_Li\\homework\\homework02\\src\"\u001b[0m\u001b[1;33m)\u001b[0m\u001b[1;33m\u001b[0m\u001b[0m\n\u001b[0;32m      3\u001b[0m \u001b[1;33m\u001b[0m\u001b[0m\n\u001b[1;32m----> 4\u001b[1;33m \u001b[1;32mfrom\u001b[0m \u001b[0mutils\u001b[0m \u001b[1;32mimport\u001b[0m \u001b[0mget_summary_stats\u001b[0m\u001b[1;33m\u001b[0m\u001b[0m\n\u001b[0m",
      "\u001b[1;31mImportError\u001b[0m: cannot import name 'get_summary_stats' from 'utils' (C:\\Users\\Bobli\\bootcamp_Calvin_Li\\homework\\homework02\\src\\utils.py)"
     ]
    }
   ],
   "source": [
    "import sys\n",
    "sys.path.append(r\"C:\\Users\\Bobli\\bootcamp_Calvin_Li\\homework\\homework02\\src\")\n",
    "\n",
    "from utils import get_summary_stats"
   ]
  },
  {
   "cell_type": "code",
   "execution_count": null,
   "id": "202240ad-c789-4297-9061-9488d7147c99",
   "metadata": {},
   "outputs": [],
   "source": []
  }
 ],
 "metadata": {
  "kernelspec": {
   "display_name": "Python [conda env:bootcamp_env]",
   "language": "python",
   "name": "bootcamp_env"
  },
  "language_info": {
   "codemirror_mode": {
    "name": "ipython",
    "version": 3
   },
   "file_extension": ".py",
   "mimetype": "text/x-python",
   "name": "python",
   "nbconvert_exporter": "python",
   "pygments_lexer": "ipython3",
   "version": "3.7.0"
  }
 },
 "nbformat": 4,
 "nbformat_minor": 5
}
