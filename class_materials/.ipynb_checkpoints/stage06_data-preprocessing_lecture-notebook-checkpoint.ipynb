{
 "cells": [
  {
   "cell_type": "code",
   "execution_count": 1,
   "id": "dcd9d785",
   "metadata": {},
   "outputs": [
    {
     "name": "stdout",
     "output_type": "stream",
     "text": [
      "Demo CSV created at data/instructor_dirty.csv\n"
     ]
    }
   ],
   "source": [
    "# Generate demo CSV if not exists\n",
    "import os\n",
    "import pandas as pd\n",
    "\n",
    "csv_path = 'data/instructor_dirty.csv'\n",
    "os.makedirs('data', exist_ok=True)\n",
    "\n",
    "if not os.path.exists(csv_path):\n",
    "    df_demo = pd.DataFrame({\n",
    "        'numeric_col': [10, None, 40, 55, 70],\n",
    "        'category_col': ['A', 'B', 'A', 'B', 'C'],\n",
    "        'price': ['$100', '$200', '$150', None, '$250'],\n",
    "        'date_str': ['2025-08-01','2025-08-02',None,'2025-08-04','2025-08-05'],\n",
    "        'category': ['Electronics','Furniture','Toys','Clothing',None]\n",
    "    })\n",
    "    df_demo.to_csv(csv_path, index=False)\n",
    "    print(f\"Demo CSV created at {csv_path}\")\n",
    "else:\n",
    "    print(f\"CSV already exists at {csv_path}\")"
   ]
  },
  {
   "cell_type": "markdown",
   "id": "89d4b893",
   "metadata": {},
   "source": [
    "# Stage 6: Comprehensive Data Preprocessing\n",
    "- Missing data handling (MCAR/MAR/MNAR, visualization, fill/drop strategies)\n",
    "- Filtering and threshold-based row drops\n",
    "- Type corrections (currency, dates, categorical)\n",
    "- Scaling/normalization (MinMax, StandardScaler)\n",
    "- Reusable functions for reproducibility and workflow\n"
   ]
  },
  {
   "cell_type": "code",
   "execution_count": 8,
   "id": "61d30eb1-3ef8-48fe-a79b-eb375bb836f4",
   "metadata": {},
   "outputs": [
    {
     "name": "stdout",
     "output_type": "stream",
     "text": [
      "Collecting missingno\n",
      "  Downloading missingno-0.5.2-py3-none-any.whl.metadata (639 bytes)\n",
      "Requirement already satisfied: numpy in c:\\users\\bobli\\miniconda3\\envs\\fe-course\\lib\\site-packages (from missingno) (2.2.6)\n",
      "Requirement already satisfied: matplotlib in c:\\users\\bobli\\miniconda3\\envs\\fe-course\\lib\\site-packages (from missingno) (3.10.5)\n",
      "Requirement already satisfied: scipy in c:\\users\\bobli\\miniconda3\\envs\\fe-course\\lib\\site-packages (from missingno) (1.15.3)\n",
      "Requirement already satisfied: seaborn in c:\\users\\bobli\\miniconda3\\envs\\fe-course\\lib\\site-packages (from missingno) (0.13.2)\n",
      "Requirement already satisfied: contourpy>=1.0.1 in c:\\users\\bobli\\miniconda3\\envs\\fe-course\\lib\\site-packages (from matplotlib->missingno) (1.3.2)\n",
      "Requirement already satisfied: cycler>=0.10 in c:\\users\\bobli\\miniconda3\\envs\\fe-course\\lib\\site-packages (from matplotlib->missingno) (0.12.1)\n",
      "Requirement already satisfied: fonttools>=4.22.0 in c:\\users\\bobli\\miniconda3\\envs\\fe-course\\lib\\site-packages (from matplotlib->missingno) (4.59.1)\n",
      "Requirement already satisfied: kiwisolver>=1.3.1 in c:\\users\\bobli\\miniconda3\\envs\\fe-course\\lib\\site-packages (from matplotlib->missingno) (1.4.9)\n",
      "Requirement already satisfied: packaging>=20.0 in c:\\users\\bobli\\miniconda3\\envs\\fe-course\\lib\\site-packages (from matplotlib->missingno) (25.0)\n",
      "Requirement already satisfied: pillow>=8 in c:\\users\\bobli\\miniconda3\\envs\\fe-course\\lib\\site-packages (from matplotlib->missingno) (11.3.0)\n",
      "Requirement already satisfied: pyparsing>=2.3.1 in c:\\users\\bobli\\miniconda3\\envs\\fe-course\\lib\\site-packages (from matplotlib->missingno) (3.2.3)\n",
      "Requirement already satisfied: python-dateutil>=2.7 in c:\\users\\bobli\\miniconda3\\envs\\fe-course\\lib\\site-packages (from matplotlib->missingno) (2.9.0.post0)\n",
      "Requirement already satisfied: six>=1.5 in c:\\users\\bobli\\miniconda3\\envs\\fe-course\\lib\\site-packages (from python-dateutil>=2.7->matplotlib->missingno) (1.17.0)\n",
      "Requirement already satisfied: pandas>=1.2 in c:\\users\\bobli\\miniconda3\\envs\\fe-course\\lib\\site-packages (from seaborn->missingno) (2.3.1)\n",
      "Requirement already satisfied: pytz>=2020.1 in c:\\users\\bobli\\miniconda3\\envs\\fe-course\\lib\\site-packages (from pandas>=1.2->seaborn->missingno) (2025.2)\n",
      "Requirement already satisfied: tzdata>=2022.7 in c:\\users\\bobli\\miniconda3\\envs\\fe-course\\lib\\site-packages (from pandas>=1.2->seaborn->missingno) (2025.2)\n",
      "Downloading missingno-0.5.2-py3-none-any.whl (8.7 kB)\n",
      "Installing collected packages: missingno\n",
      "Successfully installed missingno-0.5.2\n"
     ]
    }
   ],
   "source": [
    "import sys\n",
    "!{sys.executable} -m pip install missingno"
   ]
  },
  {
   "cell_type": "code",
   "execution_count": 9,
   "id": "0b7efeeb",
   "metadata": {},
   "outputs": [],
   "source": [
    "# Imports\n",
    "import pandas as pd\n",
    "import numpy as np\n",
    "import seaborn as sns\n",
    "import matplotlib.pyplot as plt\n",
    "from sklearn.preprocessing import MinMaxScaler, StandardScaler\n",
    "import missingno as msno"
   ]
  },
  {
   "cell_type": "markdown",
   "id": "8cc58bfa",
   "metadata": {},
   "source": [
    "## Load Dataset"
   ]
  },
  {
   "cell_type": "code",
   "execution_count": 10,
   "id": "356ec586",
   "metadata": {},
   "outputs": [
    {
     "data": {
      "text/html": [
       "<div>\n",
       "<style scoped>\n",
       "    .dataframe tbody tr th:only-of-type {\n",
       "        vertical-align: middle;\n",
       "    }\n",
       "\n",
       "    .dataframe tbody tr th {\n",
       "        vertical-align: top;\n",
       "    }\n",
       "\n",
       "    .dataframe thead th {\n",
       "        text-align: right;\n",
       "    }\n",
       "</style>\n",
       "<table border=\"1\" class=\"dataframe\">\n",
       "  <thead>\n",
       "    <tr style=\"text-align: right;\">\n",
       "      <th></th>\n",
       "      <th>numeric_col</th>\n",
       "      <th>category_col</th>\n",
       "      <th>price</th>\n",
       "      <th>date_str</th>\n",
       "      <th>category</th>\n",
       "    </tr>\n",
       "  </thead>\n",
       "  <tbody>\n",
       "    <tr>\n",
       "      <th>0</th>\n",
       "      <td>10.0</td>\n",
       "      <td>A</td>\n",
       "      <td>$100</td>\n",
       "      <td>2025-08-01</td>\n",
       "      <td>Electronics</td>\n",
       "    </tr>\n",
       "    <tr>\n",
       "      <th>1</th>\n",
       "      <td>NaN</td>\n",
       "      <td>B</td>\n",
       "      <td>$200</td>\n",
       "      <td>2025-08-02</td>\n",
       "      <td>Furniture</td>\n",
       "    </tr>\n",
       "    <tr>\n",
       "      <th>2</th>\n",
       "      <td>40.0</td>\n",
       "      <td>A</td>\n",
       "      <td>$150</td>\n",
       "      <td>NaN</td>\n",
       "      <td>Toys</td>\n",
       "    </tr>\n",
       "    <tr>\n",
       "      <th>3</th>\n",
       "      <td>55.0</td>\n",
       "      <td>B</td>\n",
       "      <td>NaN</td>\n",
       "      <td>2025-08-04</td>\n",
       "      <td>Clothing</td>\n",
       "    </tr>\n",
       "    <tr>\n",
       "      <th>4</th>\n",
       "      <td>70.0</td>\n",
       "      <td>C</td>\n",
       "      <td>$250</td>\n",
       "      <td>2025-08-05</td>\n",
       "      <td>NaN</td>\n",
       "    </tr>\n",
       "  </tbody>\n",
       "</table>\n",
       "</div>"
      ],
      "text/plain": [
       "   numeric_col category_col price    date_str     category\n",
       "0         10.0            A  $100  2025-08-01  Electronics\n",
       "1          NaN            B  $200  2025-08-02    Furniture\n",
       "2         40.0            A  $150         NaN         Toys\n",
       "3         55.0            B   NaN  2025-08-04     Clothing\n",
       "4         70.0            C  $250  2025-08-05          NaN"
      ]
     },
     "execution_count": 10,
     "metadata": {},
     "output_type": "execute_result"
    }
   ],
   "source": [
    "# Load instructor CSV\n",
    "df = pd.read_csv('data/instructor_dirty.csv')\n",
    "df.head()"
   ]
  },
  {
   "cell_type": "markdown",
   "id": "a6af9db0",
   "metadata": {},
   "source": [
    "## Inspect Missingness"
   ]
  },
  {
   "cell_type": "code",
   "execution_count": null,
   "id": "2067b1b8",
   "metadata": {},
   "outputs": [],
   "source": [
    "# Basic info and missing counts?\n",
    "\n",
    "# Heatmap for missing data\n",
    "sns.heatmap(df.isnull(), cbar=False)\n",
    "plt.show()\n",
    "\n",
    "# missingno visualization\n",
    "msno.matrix(df)"
   ]
  },
  {
   "cell_type": "markdown",
   "id": "4d2478c3",
   "metadata": {},
   "source": [
    "## Simulate MCAR / MAR / MNAR Missingness"
   ]
  },
  {
   "cell_type": "code",
   "execution_count": null,
   "id": "638b7ae3",
   "metadata": {},
   "outputs": [],
   "source": [
    "# MCAR: random missing\n",
    "df['MCAR_col'] = df['numeric_col'].mask(np.random.rand(len(df)) < 0.1)\n",
    "# MAR: missing depends on another column\n",
    "df['MAR_col'] = df['numeric_col'].mask(df['category_col']=='A')\n",
    "# MNAR: missing depends on its own value\n",
    "df['MNAR_col'] = df['numeric_col'].mask(df['numeric_col']>50)"
   ]
  },
  {
   "cell_type": "markdown",
   "id": "f90ef622",
   "metadata": {},
   "source": [
    "## Handling Missing Values"
   ]
  },
  {
   "cell_type": "code",
   "execution_count": null,
   "id": "ea83bd56",
   "metadata": {},
   "outputs": [],
   "source": [
    "# Fill missing with median\n",
    "df['numeric_col'] = df['numeric_col'].fillna(df['numeric_col'].median())\n",
    "\n",
    "# Drop rows with missing MCAR\n",
    "df.dropna(subset=['MCAR_col'], inplace=True)\n",
    "\n",
    "# Alternative strategies\n",
    "df_fill_mean = df.fillna(df.mean(numeric_only=True))\n",
    "df_fill_median = df.fillna(df.median(numeric_only=True))\n",
    "df_fill_ffill = df.fillna(method='ffill')\n",
    "\n",
    "# Threshold-based row drop example\n",
    "df_drop_thresh = df.dropna(thresh=int(0.5*df.shape[1]))"
   ]
  },
  {
   "cell_type": "markdown",
   "id": "42349916",
   "metadata": {},
   "source": [
    "## Filtering Examples"
   ]
  },
  {
   "cell_type": "code",
   "execution_count": null,
   "id": "964d84c9",
   "metadata": {},
   "outputs": [],
   "source": [
    "df_filtered = df[df['price'].str.replace('$','').astype(float) > 0]"
   ]
  },
  {
   "cell_type": "markdown",
   "id": "44d3b134",
   "metadata": {},
   "source": [
    "## Type Corrections"
   ]
  },
  {
   "cell_type": "code",
   "execution_count": null,
   "id": "1d2aa72d",
   "metadata": {},
   "outputs": [],
   "source": [
    "# Currency string to numeric\n",
    "if 'price' in df.columns:\n",
    "    df['price'] = df['price'].str.replace('$','').astype(float)\n",
    "\n",
    "# Convert string to datetime\n",
    "if 'date_str' in df.columns:\n",
    "    df['date'] = pd.to_datetime(df['date_str'], errors='coerce')\n",
    "\n",
    "# Standardize categorical column\n",
    "if 'category' in df.columns:\n",
    "    df['category'] = df['category'].str.lower().astype('category')"
   ]
  },
  {
   "cell_type": "code",
   "execution_count": null,
   "id": "3b97fe61",
   "metadata": {},
   "outputs": [],
   "source": [
    "# ---- Column Type Demo ----\n",
    "# import pandas as pd\n",
    "# import numpy as np\n",
    "\n",
    "# Demo DataFrame for column types\n",
    "df_types_demo = pd.DataFrame({\n",
    "    'all_integers': [1, 2, 3, 4],\n",
    "    'integers_with_nan': [1, 2, np.nan, 4],\n",
    "    'text_column': ['a', 'b', 'c', 'd'],\n",
    "    'mixed_column': [1, 'two', 3, 4]\n",
    "})\n",
    "\n",
    "print(\"Demo DataFrame:\")\n",
    "print(df_types_demo)\n",
    "\n",
    "# Show column types\n",
    "print(\"\\nColumn types:\")\n",
    "print(df_types_demo.dtypes)\n",
    "\n",
    "# Convert 'integers_with_nan' to nullable Int64\n",
    "df_types_demo['integers_with_nan'] = df_types_demo['integers_with_nan'].astype('Int64')\n",
    "print(\"\\nAfter converting 'integers_with_nan' to Int64:\")\n",
    "print(df_types_demo.dtypes)\n",
    "\n",
    "# Select numeric columns (generic)\n",
    "numeric_cols = df_types_demo.select_dtypes(include='number').columns\n",
    "print(\"\\nNumeric columns (generic):\", list(numeric_cols))\n",
    "\n",
    "# Select object columns (generic)\n",
    "object_cols = df_types_demo.select_dtypes(include='object').columns\n",
    "print(\"Object columns (generic):\", list(object_cols))\n"
   ]
  },
  {
   "cell_type": "markdown",
   "id": "615439a9",
   "metadata": {},
   "source": [
    "## Scaling and Normalization"
   ]
  },
  {
   "cell_type": "code",
   "execution_count": null,
   "id": "53fcdc66",
   "metadata": {},
   "outputs": [],
   "source": [
    "# MinMax scaling for numeric_col\n",
    "scaler = MinMaxScaler()\n",
    "df['numeric_scaled'] = scaler.fit_transform(df[['numeric_col']])\n",
    "\n",
    "# StandardScaler\n",
    "standardizer = StandardScaler()\n",
    "df['numeric_standard'] = standardizer.fit_transform(df[['numeric_col']])"
   ]
  },
  {
   "cell_type": "markdown",
   "id": "87a1ed4e",
   "metadata": {},
   "source": [
    "## Reusable Functions for Cleaning"
   ]
  },
  {
   "cell_type": "code",
   "execution_count": null,
   "id": "e76fc76b",
   "metadata": {},
   "outputs": [],
   "source": [
    "def fill_missing_median(df, columns=None):\n",
    "    df_copy = df.copy()\n",
    "    if columns is None:\n",
    "        columns = df.select_dtypes(include=np.number).columns\n",
    "    for col in columns:\n",
    "        df_copy[col] = df_copy[col].fillna(df_copy[col].median())\n",
    "    return df_copy\n",
    "\n",
    "def drop_missing(df, columns=None, threshold=None):\n",
    "    df_copy = df.copy()\n",
    "    if columns is not None:\n",
    "        return df_copy.dropna(subset=columns)\n",
    "    if threshold is not None:\n",
    "        return df_copy.dropna(thresh=int(threshold*df_copy.shape[1]))\n",
    "    return df_copy.dropna()\n",
    "\n",
    "def normalize_data(df, columns=None, method='minmax'):\n",
    "    df_copy = df.copy()\n",
    "    if columns is None:\n",
    "        columns = df_copy.select_dtypes(include=np.number).columns\n",
    "    if method=='minmax':\n",
    "        scaler = MinMaxScaler()\n",
    "    else:\n",
    "        scaler = StandardScaler()\n",
    "    df_copy[columns] = scaler.fit_transform(df_copy[columns])\n",
    "    return df_copy\n",
    "\n",
    "def correct_column_types(df):\n",
    "    df_copy = df.copy()\n",
    "    if 'price' in df_copy.columns:\n",
    "        df_copy['price'] = df_copy['price'].str.replace('$','').astype(float)\n",
    "    if 'date_str' in df_copy.columns:\n",
    "        df_copy['date'] = pd.to_datetime(df_copy['date_str'], errors='coerce')\n",
    "    if 'category' in df_copy.columns:\n",
    "        df_copy['category'] = df_copy['category'].str.lower().astype('category')\n",
    "    return df_copy"
   ]
  },
  {
   "cell_type": "markdown",
   "id": "79552497",
   "metadata": {},
   "source": [
    "## Validation & Save Cleaned Dataset"
   ]
  },
  {
   "cell_type": "code",
   "execution_count": null,
   "id": "913f3649",
   "metadata": {},
   "outputs": [],
   "source": [
    "# Apply reusable functions\n",
    "df_cleaned = df.copy()\n",
    "df_cleaned = fill_missing_median(df_cleaned)\n",
    "df_cleaned = drop_missing(df_cleaned, threshold=0.5)\n",
    "df_cleaned = normalize_data(df_cleaned)\n",
    "df_cleaned = correct_column_types(df_cleaned)\n",
    "\n",
    "# Inspect\n",
    "df_cleaned.info()\n",
    "df_cleaned.head()\n",
    "\n",
    "# Save\n",
    "df_cleaned.to_csv('data/processed/combined_cleaned_data.csv', index=False)"
   ]
  },
  {
   "cell_type": "markdown",
   "id": "a475c63d",
   "metadata": {},
   "source": [
    "## Preprocessing Assumptions\n",
    "\n",
    "When we clean and preprocess data, every choice encodes assumptions about the dataset. It's important to document these for reproducibility and stakeholder understanding.\n",
    "\n",
    "### 1. Missing Data Handling\n",
    "- Filling missing numeric values with median assumes the missingness is **MCAR or MAR** (not systematically biased).  \n",
    "- Forward/backward fill assumes **temporal continuity** in time series data.  \n",
    "- Dropping rows assumes the missing rows are **not critical** to analysis.  \n",
    "- Imputation affects averages, distributions, and model training.\n",
    "\n",
    "### 2. Understanding Missingness\n",
    "- MCAR: safe to drop or fill, assumes randomness.  \n",
    "- MAR: imputation using related features is valid.  \n",
    "- MNAR: missing depends on unobserved values; may require domain knowledge.  \n",
    "- Misidentifying missingness can bias results.\n",
    "\n",
    "### 3. Filtering / Data Cleaning\n",
    "- Removing negative or out-of-range values assumes they are **errors or invalid entries**.  \n",
    "- Dropping columns or rows with excessive missingness assumes those data are **non-essential**.  \n",
    "- Rare but valid events might be lost if thresholds are too strict.\n",
    "\n",
    "### 4. Scaling / Normalization\n",
    "- StandardScaler assumes features are roughly **normally distributed**.  \n",
    "- MinMaxScaler assumes min and max values are **representative**, not extreme outliers.  \n",
    "- Scaling changes interpretation of magnitudes; coefficients or distances may be affected.\n",
    "\n",
    "### 5. Column Type Corrections\n",
    "- Converting strings to numeric assumes there are **no hidden characters or formatting issues**.  \n",
    "- Parsing dates assumes a **consistent date format**.  \n",
    "- Categoricals assume a **finite, discrete set of values**.  \n",
    "- Wrong types can break computations or modeling.\n",
    "\n",
    "### 6. Reproducibility & Modularity\n",
    "- Using modular functions assumes **future datasets follow similar structure and patterns**.  \n",
    "- Documenting assumptions ensures that preprocessing is **transparent** and results are interpretable.\n",
    "\n",
    "> **Tip:** Always communicate these assumptions to stakeholders, so they understand the limitations and decisions made during preprocessing.\n"
   ]
  }
 ],
 "metadata": {
  "kernelspec": {
   "display_name": "Python (fe-course)",
   "language": "python",
   "name": "fe-course"
  },
  "language_info": {
   "codemirror_mode": {
    "name": "ipython",
    "version": 3
   },
   "file_extension": ".py",
   "mimetype": "text/x-python",
   "name": "python",
   "nbconvert_exporter": "python",
   "pygments_lexer": "ipython3",
   "version": "3.10.18"
  }
 },
 "nbformat": 4,
 "nbformat_minor": 5
}
