{
 "cells": [
  {
   "cell_type": "markdown",
   "id": "d867093d",
   "metadata": {},
   "source": [
    "# Stage 03: Python Fundamentals\n",
    "\n",
    "**Date:** Aug 14 (Thursday) (C)\n",
    "\n",
    "In this notebook, we explore core Python data structures, NumPy, pandas, and reusable functions."
   ]
  },
  {
   "cell_type": "code",
   "execution_count": null,
   "id": "3b5b324f",
   "metadata": {},
   "outputs": [],
   "source": [
    "import numpy as np\n",
    "import pandas as pd\n",
    "import matplotlib.pyplot as plt\n",
    "from datetime import datetime"
   ]
  },
  {
   "cell_type": "markdown",
   "id": "8cd39b20",
   "metadata": {},
   "source": [
    "## Warm-Up: Function and Decorator"
   ]
  },
  {
   "cell_type": "code",
   "execution_count": null,
   "id": "1e4836d6",
   "metadata": {},
   "outputs": [],
   "source": [
    "def calc_mean_std(lst):\n",
    "    arr = np.array(lst)\n",
    "    return arr.mean(), arr.std()\n",
    "\n",
    "def log_call(func):\n",
    "    def wrapper(*args, **kwargs):\n",
    "        print(f\"Function {func.__name__} called at {datetime.now()}\")\n",
    "        return func(*args, **kwargs)\n",
    "    return wrapper\n",
    "\n",
    "@log_call\n",
    "def calc_mean_std_logged(lst):\n",
    "    return calc_mean_std(lst)\n",
    "\n",
    "calc_mean_std_logged([1, 2, 3, 4, 5])"
   ]
  },
  {
   "cell_type": "markdown",
   "id": "5fbd78e1",
   "metadata": {},
   "source": [
    "## Data Structures Comparison"
   ]
  },
  {
   "cell_type": "code",
   "execution_count": null,
   "id": "6c88b111",
   "metadata": {},
   "outputs": [],
   "source": [
    "lst = [1, 2, 3]\n",
    "arr = np.array(lst)\n",
    "ser = pd.Series(lst)\n",
    "df = pd.DataFrame({'col1': lst, 'col2': [4,5,6]})\n",
    "\n",
    "print(type(lst), type(arr), type(ser), type(df))"
   ]
  },
  {
   "cell_type": "markdown",
   "id": "81866b35",
   "metadata": {},
   "source": [
    "## Vectorization vs Loops"
   ]
  },
  {
   "cell_type": "code",
   "execution_count": null,
   "id": "b49f721f",
   "metadata": {},
   "outputs": [],
   "source": [
    "big_array = np.arange(1_000_000)\n",
    "\n",
    "%timeit [x * 2 for x in big_array]\n",
    "%timeit big_array * 2"
   ]
  },
  {
   "cell_type": "markdown",
   "id": "7bed4a29",
   "metadata": {},
   "source": [
    "## Pandas Basics"
   ]
  },
  {
   "cell_type": "code",
   "execution_count": null,
   "id": "417913fa",
   "metadata": {},
   "outputs": [],
   "source": [
    "df = pd.read_csv('data/starter_data.csv')\n",
    "df.head(), df.info(), df.describe()"
   ]
  },
  {
   "cell_type": "markdown",
   "id": "be6a9292",
   "metadata": {},
   "source": [
    "## Groupby & Aggregation"
   ]
  },
  {
   "cell_type": "code",
   "execution_count": null,
   "id": "5ce8e284",
   "metadata": {},
   "outputs": [],
   "source": [
    "summary = df.groupby('category').mean(numeric_only=True).reset_index()\n",
    "summary.to_csv('data/processed/summary.csv', index=False)\n",
    "summary"
   ]
  },
  {
   "cell_type": "markdown",
   "id": "00f2693a",
   "metadata": {},
   "source": [
    "## Plotting"
   ]
  },
  {
   "cell_type": "code",
   "execution_count": null,
   "id": "00700745",
   "metadata": {},
   "outputs": [],
   "source": [
    "df['value'].hist()\n",
    "plt.savefig('data/processed/histogram.png')"
   ]
  }
 ],
 "metadata": {
  "kernelspec": {
   "display_name": "Python 3 (ipykernel)",
   "language": "python",
   "name": "python3"
  },
  "language_info": {
   "codemirror_mode": {
    "name": "ipython",
    "version": 3
   },
   "file_extension": ".py",
   "mimetype": "text/x-python",
   "name": "python",
   "nbconvert_exporter": "python",
   "pygments_lexer": "ipython3",
   "version": "3.13.2"
  }
 },
 "nbformat": 4,
 "nbformat_minor": 5
}
